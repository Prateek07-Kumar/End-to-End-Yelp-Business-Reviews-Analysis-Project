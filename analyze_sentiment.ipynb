{
 "cells": [
  {
   "cell_type": "code",
   "execution_count": null,
   "metadata": {},
   "outputs": [],
   "source": [
    "create table reviews (review varchar(200));\n",
    "insert into reviews values ('I love this product! It ;works perfectly');\n",
    "insert into reviews values ('This product is okay. but it could be better.');\n",
    "insert into reviews values ('I hate this product. It stopped working after a week.');\n",
    "insert into reviews values ('This product is okay. Not that great');\n",
    "insert into reviews values ('This product is not good. But i can use');\n",
    "\n",
    "SELECT * FROM reviews\n",
    "\n",
    "select review, analyze_sentiment(review) from reviews\n",
    "\n",
    "CREATE OR REPLACE FUNCTION analyze_sentiment(text STRING)\n",
    "RETURNS STRING\n",
    "LANGUAGE PYTHON\n",
    "RUNTIME_VERSION = '3.9'\n",
    "PACKAGES = ('textblob')\n",
    "HANDLER = 'sentiment_analyzer'\n",
    "AS $$\n",
    "from textblob import TextBlob\n",
    "def sentiment_analyzer(text):\n",
    "    analysis = TextBlob(text)\n",
    "    if analysis.sentiment.polarity > 0:\n",
    "        return 'Positive'\n",
    "    elif analysis.sentiment.polarity == 0:\n",
    "        return 'Neutral'\n",
    "    else:\n",
    "        return 'Negative'\n",
    "$$;\n"
   ]
  }
 ],
 "metadata": {
  "language_info": {
   "name": "python"
  },
  "orig_nbformat": 4
 },
 "nbformat": 4,
 "nbformat_minor": 2
}
