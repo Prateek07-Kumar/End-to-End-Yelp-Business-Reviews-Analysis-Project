{
 "cells": [
  {
   "cell_type": "code",
   "execution_count": null,
   "metadata": {},
   "outputs": [],
   "source": [
    "create or replace table yelp_businesses (business_text variant)\n",
    "\n",
    "COPY INTO yelp_businesses\n",
    "FROM 's3://yelp-project-analysis/yelp/yelp_academic_dataset_business.json'\n",
    "CREDENTIALS = (\n",
    "    AWS_KEY_ID = 'AKIA5P5E7FGFBFFYU2JUIUG'\n",
    "    AWS_SECRET_KEY = 'M0OLY8nN45gfyi4Nc9iUO38iNn1qnfbExMQtUCDE0gl'\n",
    ")\n",
    "FILE_FORMAT = (TYPE = JSON);\n",
    "\n",
    "select * from yelp_businesses limit 10\n",
    "\n",
    "create or replace table tbl_yelp_businesses as\n",
    "select business_text:business_id::string as business_id\n",
    ",business_text:name::string as name\n",
    ",business_text:city::string as city\n",
    ",business_text:state::string as state\n",
    ",business_text:review_count::string as review_count\n",
    ",business_text:stars::number as stars\n",
    ",business_text:categories::string as categories\n",
    "from yelp_businesses \n",
    "limit 100\n",
    "\n",
    "select * from tbl_yelp_businesses limit 100"
   ]
  }
 ],
 "metadata": {
  "language_info": {
   "name": "python"
  },
  "orig_nbformat": 4
 },
 "nbformat": 4,
 "nbformat_minor": 2
}
