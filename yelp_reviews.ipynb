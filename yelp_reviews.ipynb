{
 "cells": [
  {
   "cell_type": "code",
   "execution_count": null,
   "metadata": {},
   "outputs": [],
   "source": [
    "create or replace table yelp_reviews (review_text variant)\n",
    "\n",
    "COPY INTO yelp_reviews\n",
    "FROM 's3://yelp-project-analysis/yelp/'\n",
    "CREDENTIALS = (\n",
    "    AWS_KEY_ID = 'AKIA5P5E7FGFBFFYU2JUIUG'\n",
    "    AWS_SECRET_KEY = 'M0OLY8nN45gfyi4Nc9iUO38iNn1qnfbExMQtUCDE0gl'\n",
    ")\n",
    "FILE_FORMAT = (TYPE = JSON);\n",
    "\n",
    "select * from yelp_reviews limit 10\n",
    "\n",
    "create or replace table tbl_yelp_reviews as \n",
    "select review_text:business_id::string as business_id \n",
    ",review_text:date:: date as review_date\n",
    ",review_text:user_id:: string as user_id\n",
    ",review_text:stars:: number as review_stars\n",
    ",review_text:text:: string as review_text\n",
    ",analyze_sentiment (review_text) as sentiments\n",
    "from yelp_reviews \n",
    "limit 1000\n",
    "\n",
    "\n",
    "select * from tbl_yelp_reviews limit 10\n",
    "select * from tbl_yelp_businesses limit 10"
   ]
  }
 ],
 "metadata": {
  "language_info": {
   "name": "python"
  },
  "orig_nbformat": 4
 },
 "nbformat": 4,
 "nbformat_minor": 2
}
